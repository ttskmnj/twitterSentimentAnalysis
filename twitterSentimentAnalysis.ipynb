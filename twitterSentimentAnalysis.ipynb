{
  "nbformat": 4,
  "nbformat_minor": 0,
  "metadata": {
    "colab": {
      "name": "twitterSentimentAnalysis.ipynb",
      "version": "0.3.2",
      "provenance": [],
      "collapsed_sections": []
    },
    "kernelspec": {
      "name": "python3",
      "display_name": "Python 3"
    }
  },
  "cells": [
    {
      "metadata": {
        "id": "nNR0wmks3wBd",
        "colab_type": "text"
      },
      "cell_type": "markdown",
      "source": [
        "### get dataset\n",
        "Download  Twitter Sentiment Analysis Dataset and extract.\n",
        "\n",
        "The Twitter Sentiment Analysis Dataset contains 1,578,627 classified tweets, each row is marked as 1 for positive sentiment and 0 for negative sentiment. "
      ]
    },
    {
      "metadata": {
        "id": "txRn8X3UsoDH",
        "colab_type": "code",
        "colab": {
          "base_uri": "https://localhost:8080/",
          "height": 238
        },
        "outputId": "584bd4a5-bcb1-4015-8e82-3cac5010f1b6"
      },
      "cell_type": "code",
      "source": [
        "!wget http://thinknook.com/wp-content/uploads/2012/09/Sentiment-Analysis-Dataset.zip\n",
        "!unzip Sentiment-Analysis-Dataset.zip"
      ],
      "execution_count": 13,
      "outputs": [
        {
          "output_type": "stream",
          "text": [
            "--2018-09-05 13:13:43--  http://thinknook.com/wp-content/uploads/2012/09/Sentiment-Analysis-Dataset.zip\n",
            "Resolving thinknook.com (thinknook.com)... 208.109.47.128\n",
            "Connecting to thinknook.com (thinknook.com)|208.109.47.128|:80... connected.\n",
            "HTTP request sent, awaiting response... 200 OK\n",
            "Length: 56427677 (54M) [application/zip]\n",
            "Saving to: ‘Sentiment-Analysis-Dataset.zip.1’\n",
            "\n",
            "Sentiment-Analysis- 100%[===================>]  53.81M  25.7MB/s    in 2.1s    \n",
            "\n",
            "2018-09-05 13:13:46 (25.7 MB/s) - ‘Sentiment-Analysis-Dataset.zip.1’ saved [56427677/56427677]\n",
            "\n",
            "Archive:  Sentiment-Analysis-Dataset.zip\n",
            "replace Sentiment Analysis Dataset.csv? [y]es, [n]o, [A]ll, [N]one, [r]ename: ^C\n"
          ],
          "name": "stdout"
        }
      ]
    },
    {
      "metadata": {
        "id": "ZGFBquMX37MA",
        "colab_type": "text"
      },
      "cell_type": "markdown",
      "source": [
        "## set dataset to dataframe and drop unused columns\n",
        "Set dataset to pandas dataframe.\n",
        "\n",
        "Since  only \"Sentiment\" and \"SentimentText\" columns are used for sentiment analysis, drop other columns."
      ]
    },
    {
      "metadata": {
        "id": "GLG7qPY7YP4n",
        "colab_type": "code",
        "colab": {
          "base_uri": "https://localhost:8080/",
          "height": 51
        },
        "outputId": "89310546-979b-4719-8278-f1cfd2c6be14"
      },
      "cell_type": "code",
      "source": [
        "import pandas as pd\n",
        "csv = \"Sentiment Analysis Dataset.csv\"\n",
        "df = pd.read_csv(csv, error_bad_lines=False)\n",
        "\n",
        "\n",
        "# drop columns other than Sentiment and SentimentText\n",
        "df = df[['Sentiment','SentimentText']]"
      ],
      "execution_count": 61,
      "outputs": [
        {
          "output_type": "stream",
          "text": [
            "b'Skipping line 8836: expected 4 fields, saw 5\\n'\n",
            "b'Skipping line 535882: expected 4 fields, saw 7\\n'\n"
          ],
          "name": "stderr"
        }
      ]
    },
    {
      "metadata": {
        "id": "0LWiDsKkG9ln",
        "colab_type": "text"
      },
      "cell_type": "markdown",
      "source": [
        "## preprocess text\n",
        "make function to remove hashtags, mentions, links and special character.\n"
      ]
    },
    {
      "metadata": {
        "id": "O7Y2xGSnG9MY",
        "colab_type": "code",
        "colab": {}
      },
      "cell_type": "code",
      "source": [
        "import re\n",
        "\n",
        "def cleanText(text):\n",
        "  clean_words = []\n",
        "  \n",
        "  for word in text.split():\n",
        "    word = word.lower()\n",
        "    if 'http' not in word and not word.startswith('@')\\\n",
        "       and not word.startswith('#') and word != 'RT' and not word.startswith('&'):\n",
        "      word = re.sub(r'[\\-.,]', '', word)  \n",
        "      clean_words.append(word)\n",
        " \n",
        "  return \" \".join(clean_words)\n",
        "      "
      ],
      "execution_count": 0,
      "outputs": []
    },
    {
      "metadata": {
        "id": "01wN0Uw4R4es",
        "colab_type": "text"
      },
      "cell_type": "markdown",
      "source": [
        "make function to  remove stopwords from text.\n",
        "\n"
      ]
    },
    {
      "metadata": {
        "id": "6QggTLGxSGCT",
        "colab_type": "code",
        "colab": {
          "base_uri": "https://localhost:8080/",
          "height": 51
        },
        "outputId": "08d1b8d7-667f-4899-85c2-c44b1189f9a6"
      },
      "cell_type": "code",
      "source": [
        "import nltk\n",
        "nltk.download('stopwords')\n",
        "from nltk.corpus import stopwords\n",
        "\n",
        "def removeStopwords(text):\n",
        "  clean_words = []\n",
        "  \n",
        "  for word in text.split():\n",
        "    if word not in stopwords.words(\"english\"):\n",
        "      clean_words.append(word)\n",
        " \n",
        "  return \" \".join(clean_words)"
      ],
      "execution_count": 63,
      "outputs": [
        {
          "output_type": "stream",
          "text": [
            "[nltk_data] Downloading package stopwords to /root/nltk_data...\n",
            "[nltk_data]   Package stopwords is already up-to-date!\n"
          ],
          "name": "stdout"
        }
      ]
    },
    {
      "metadata": {
        "id": "C1UneLxNpgJR",
        "colab_type": "text"
      },
      "cell_type": "markdown",
      "source": [
        "run cleanText() function"
      ]
    },
    {
      "metadata": {
        "id": "vD0vXtHLSBkD",
        "colab_type": "code",
        "colab": {}
      },
      "cell_type": "code",
      "source": [
        "df_size = df.shape\n",
        "cleaned_text = []\n",
        "\n",
        "for i in range(df_size[0]):\n",
        "  cleaned_text.append(cleanText(df.loc[i, 'SentimentText']))\n",
        "\n",
        "df['SentimentText'] = cleaned_text"
      ],
      "execution_count": 0,
      "outputs": []
    },
    {
      "metadata": {
        "id": "UlXhBFklqBL4",
        "colab_type": "text"
      },
      "cell_type": "markdown",
      "source": [
        "## Zipf's law\n",
        "check Zipf's law before running removeStopwords() function since it will remove a lot words from dataset.\n",
        " \n",
        "make words dataframe from dataset."
      ]
    },
    {
      "metadata": {
        "id": "Up3G5h17qPRU",
        "colab_type": "code",
        "colab": {
          "base_uri": "https://localhost:8080/",
          "height": 589
        },
        "outputId": "f2bc61a0-2c63-441a-a1d7-cccd34c56318"
      },
      "cell_type": "code",
      "source": [
        "columns = [\"word\", \"count\", \"freq\"]\n",
        "words = pd.DataFrame(columns=columns)\n",
        "for i in range(df_size[0]):\n",
        "  for j in df.loc[i, 'SentimentText'].split():\n",
        "    if j in words['word'].tolist():\n",
        "      words.loc[words['word'] == j, \"count\"] += 1\n",
        "    else:\n",
        "      words = words.append({'word':j, 'count': 1}, ignore_index=True)"
      ],
      "execution_count": 65,
      "outputs": [
        {
          "output_type": "error",
          "ename": "KeyboardInterrupt",
          "evalue": "ignored",
          "traceback": [
            "\u001b[0;31m---------------------------------------------------------------------------\u001b[0m",
            "\u001b[0;31mKeyboardInterrupt\u001b[0m                         Traceback (most recent call last)",
            "\u001b[0;32m<ipython-input-65-df8e57673354>\u001b[0m in \u001b[0;36m<module>\u001b[0;34m()\u001b[0m\n\u001b[1;32m      4\u001b[0m   \u001b[0;32mfor\u001b[0m \u001b[0mj\u001b[0m \u001b[0;32min\u001b[0m \u001b[0mdf\u001b[0m\u001b[0;34m.\u001b[0m\u001b[0mloc\u001b[0m\u001b[0;34m[\u001b[0m\u001b[0mi\u001b[0m\u001b[0;34m,\u001b[0m \u001b[0;34m'SentimentText'\u001b[0m\u001b[0;34m]\u001b[0m\u001b[0;34m.\u001b[0m\u001b[0msplit\u001b[0m\u001b[0;34m(\u001b[0m\u001b[0;34m)\u001b[0m\u001b[0;34m:\u001b[0m\u001b[0;34m\u001b[0m\u001b[0m\n\u001b[1;32m      5\u001b[0m     \u001b[0;32mif\u001b[0m \u001b[0mj\u001b[0m \u001b[0;32min\u001b[0m \u001b[0mwords\u001b[0m\u001b[0;34m[\u001b[0m\u001b[0;34m'word'\u001b[0m\u001b[0;34m]\u001b[0m\u001b[0;34m.\u001b[0m\u001b[0mtolist\u001b[0m\u001b[0;34m(\u001b[0m\u001b[0;34m)\u001b[0m\u001b[0;34m:\u001b[0m\u001b[0;34m\u001b[0m\u001b[0m\n\u001b[0;32m----> 6\u001b[0;31m       \u001b[0mwords\u001b[0m\u001b[0;34m.\u001b[0m\u001b[0mloc\u001b[0m\u001b[0;34m[\u001b[0m\u001b[0mwords\u001b[0m\u001b[0;34m[\u001b[0m\u001b[0;34m'word'\u001b[0m\u001b[0;34m]\u001b[0m \u001b[0;34m==\u001b[0m \u001b[0mj\u001b[0m\u001b[0;34m,\u001b[0m \u001b[0;34m\"count\"\u001b[0m\u001b[0;34m]\u001b[0m \u001b[0;34m+=\u001b[0m \u001b[0;36m1\u001b[0m\u001b[0;34m\u001b[0m\u001b[0m\n\u001b[0m\u001b[1;32m      7\u001b[0m     \u001b[0;32melse\u001b[0m\u001b[0;34m:\u001b[0m\u001b[0;34m\u001b[0m\u001b[0m\n\u001b[1;32m      8\u001b[0m       \u001b[0mwords\u001b[0m \u001b[0;34m=\u001b[0m \u001b[0mwords\u001b[0m\u001b[0;34m.\u001b[0m\u001b[0mappend\u001b[0m\u001b[0;34m(\u001b[0m\u001b[0;34m{\u001b[0m\u001b[0;34m'word'\u001b[0m\u001b[0;34m:\u001b[0m\u001b[0mj\u001b[0m\u001b[0;34m,\u001b[0m \u001b[0;34m'count'\u001b[0m\u001b[0;34m:\u001b[0m \u001b[0;36m1\u001b[0m\u001b[0;34m}\u001b[0m\u001b[0;34m,\u001b[0m \u001b[0mignore_index\u001b[0m\u001b[0;34m=\u001b[0m\u001b[0;32mTrue\u001b[0m\u001b[0;34m)\u001b[0m\u001b[0;34m\u001b[0m\u001b[0m\n",
            "\u001b[0;32m/usr/local/lib/python3.6/dist-packages/pandas/core/ops.py\u001b[0m in \u001b[0;36mwrapper\u001b[0;34m(self, other, axis)\u001b[0m\n\u001b[1;32m    877\u001b[0m \u001b[0;34m\u001b[0m\u001b[0m\n\u001b[1;32m    878\u001b[0m             \u001b[0;32mwith\u001b[0m \u001b[0mnp\u001b[0m\u001b[0;34m.\u001b[0m\u001b[0merrstate\u001b[0m\u001b[0;34m(\u001b[0m\u001b[0mall\u001b[0m\u001b[0;34m=\u001b[0m\u001b[0;34m'ignore'\u001b[0m\u001b[0;34m)\u001b[0m\u001b[0;34m:\u001b[0m\u001b[0;34m\u001b[0m\u001b[0m\n\u001b[0;32m--> 879\u001b[0;31m                 \u001b[0mres\u001b[0m \u001b[0;34m=\u001b[0m \u001b[0mna_op\u001b[0m\u001b[0;34m(\u001b[0m\u001b[0mvalues\u001b[0m\u001b[0;34m,\u001b[0m \u001b[0mother\u001b[0m\u001b[0;34m)\u001b[0m\u001b[0;34m\u001b[0m\u001b[0m\n\u001b[0m\u001b[1;32m    880\u001b[0m             \u001b[0;32mif\u001b[0m \u001b[0mis_scalar\u001b[0m\u001b[0;34m(\u001b[0m\u001b[0mres\u001b[0m\u001b[0;34m)\u001b[0m\u001b[0;34m:\u001b[0m\u001b[0;34m\u001b[0m\u001b[0m\n\u001b[1;32m    881\u001b[0m                 raise TypeError('Could not compare {typ} type with Series'\n",
            "\u001b[0;32m/usr/local/lib/python3.6/dist-packages/pandas/core/ops.py\u001b[0m in \u001b[0;36mna_op\u001b[0;34m(x, y)\u001b[0m\n\u001b[1;32m    781\u001b[0m \u001b[0;34m\u001b[0m\u001b[0m\n\u001b[1;32m    782\u001b[0m         \u001b[0;32mif\u001b[0m \u001b[0mis_object_dtype\u001b[0m\u001b[0;34m(\u001b[0m\u001b[0mx\u001b[0m\u001b[0;34m.\u001b[0m\u001b[0mdtype\u001b[0m\u001b[0;34m)\u001b[0m\u001b[0;34m:\u001b[0m\u001b[0;34m\u001b[0m\u001b[0m\n\u001b[0;32m--> 783\u001b[0;31m             \u001b[0mresult\u001b[0m \u001b[0;34m=\u001b[0m \u001b[0m_comp_method_OBJECT_ARRAY\u001b[0m\u001b[0;34m(\u001b[0m\u001b[0mop\u001b[0m\u001b[0;34m,\u001b[0m \u001b[0mx\u001b[0m\u001b[0;34m,\u001b[0m \u001b[0my\u001b[0m\u001b[0;34m)\u001b[0m\u001b[0;34m\u001b[0m\u001b[0m\n\u001b[0m\u001b[1;32m    784\u001b[0m         \u001b[0;32melse\u001b[0m\u001b[0;34m:\u001b[0m\u001b[0;34m\u001b[0m\u001b[0m\n\u001b[1;32m    785\u001b[0m \u001b[0;34m\u001b[0m\u001b[0m\n",
            "\u001b[0;32m/usr/local/lib/python3.6/dist-packages/pandas/core/ops.py\u001b[0m in \u001b[0;36m_comp_method_OBJECT_ARRAY\u001b[0;34m(op, x, y)\u001b[0m\n\u001b[1;32m    761\u001b[0m         \u001b[0mresult\u001b[0m \u001b[0;34m=\u001b[0m \u001b[0mlib\u001b[0m\u001b[0;34m.\u001b[0m\u001b[0mvec_compare\u001b[0m\u001b[0;34m(\u001b[0m\u001b[0mx\u001b[0m\u001b[0;34m,\u001b[0m \u001b[0my\u001b[0m\u001b[0;34m,\u001b[0m \u001b[0mop\u001b[0m\u001b[0;34m)\u001b[0m\u001b[0;34m\u001b[0m\u001b[0m\n\u001b[1;32m    762\u001b[0m     \u001b[0;32melse\u001b[0m\u001b[0;34m:\u001b[0m\u001b[0;34m\u001b[0m\u001b[0m\n\u001b[0;32m--> 763\u001b[0;31m         \u001b[0mresult\u001b[0m \u001b[0;34m=\u001b[0m \u001b[0mlib\u001b[0m\u001b[0;34m.\u001b[0m\u001b[0mscalar_compare\u001b[0m\u001b[0;34m(\u001b[0m\u001b[0mx\u001b[0m\u001b[0;34m,\u001b[0m \u001b[0my\u001b[0m\u001b[0;34m,\u001b[0m \u001b[0mop\u001b[0m\u001b[0;34m)\u001b[0m\u001b[0;34m\u001b[0m\u001b[0m\n\u001b[0m\u001b[1;32m    764\u001b[0m     \u001b[0;32mreturn\u001b[0m \u001b[0mresult\u001b[0m\u001b[0;34m\u001b[0m\u001b[0m\n\u001b[1;32m    765\u001b[0m \u001b[0;34m\u001b[0m\u001b[0m\n",
            "\u001b[0;31mKeyboardInterrupt\u001b[0m: "
          ]
        }
      ]
    },
    {
      "metadata": {
        "id": "DMO6wBPwo0pE",
        "colab_type": "text"
      },
      "cell_type": "markdown",
      "source": [
        "calcurate word's frequency"
      ]
    },
    {
      "metadata": {
        "id": "fJk-jfDBo4Ce",
        "colab_type": "code",
        "colab": {
          "base_uri": "https://localhost:8080/",
          "height": 1969
        },
        "outputId": "ce8e58e3-4dc2-464d-f0b2-b55b1b215a7a"
      },
      "cell_type": "code",
      "source": [
        "total_count = words['count'].sum()\n",
        "words['freq'] = words['count'] / total_count\n",
        "words = words.sort_values(by=\"count\", ascending=False)\n",
        "words.reset_index(drop=True)"
      ],
      "execution_count": 59,
      "outputs": [
        {
          "output_type": "execute_result",
          "data": {
            "text/html": [
              "<div>\n",
              "<style scoped>\n",
              "    .dataframe tbody tr th:only-of-type {\n",
              "        vertical-align: middle;\n",
              "    }\n",
              "\n",
              "    .dataframe tbody tr th {\n",
              "        vertical-align: top;\n",
              "    }\n",
              "\n",
              "    .dataframe thead th {\n",
              "        text-align: right;\n",
              "    }\n",
              "</style>\n",
              "<table border=\"1\" class=\"dataframe\">\n",
              "  <thead>\n",
              "    <tr style=\"text-align: right;\">\n",
              "      <th></th>\n",
              "      <th>word</th>\n",
              "      <th>count</th>\n",
              "      <th>freq</th>\n",
              "    </tr>\n",
              "  </thead>\n",
              "  <tbody>\n",
              "    <tr>\n",
              "      <th>0</th>\n",
              "      <td>i'm</td>\n",
              "      <td>9</td>\n",
              "      <td>0.0139104</td>\n",
              "    </tr>\n",
              "    <tr>\n",
              "      <th>1</th>\n",
              "      <td>go</td>\n",
              "      <td>7</td>\n",
              "      <td>0.0108192</td>\n",
              "    </tr>\n",
              "    <tr>\n",
              "      <th>2</th>\n",
              "      <td>want</td>\n",
              "      <td>6</td>\n",
              "      <td>0.00927357</td>\n",
              "    </tr>\n",
              "    <tr>\n",
              "      <th>3</th>\n",
              "      <td>get</td>\n",
              "      <td>6</td>\n",
              "      <td>0.00927357</td>\n",
              "    </tr>\n",
              "    <tr>\n",
              "      <th>4</th>\n",
              "      <td>think</td>\n",
              "      <td>6</td>\n",
              "      <td>0.00927357</td>\n",
              "    </tr>\n",
              "    <tr>\n",
              "      <th>5</th>\n",
              "      <td>new</td>\n",
              "      <td>6</td>\n",
              "      <td>0.00927357</td>\n",
              "    </tr>\n",
              "    <tr>\n",
              "      <th>6</th>\n",
              "      <td>work</td>\n",
              "      <td>5</td>\n",
              "      <td>0.00772798</td>\n",
              "    </tr>\n",
              "    <tr>\n",
              "      <th>7</th>\n",
              "      <td>see</td>\n",
              "      <td>5</td>\n",
              "      <td>0.00772798</td>\n",
              "    </tr>\n",
              "    <tr>\n",
              "      <th>8</th>\n",
              "      <td>going</td>\n",
              "      <td>5</td>\n",
              "      <td>0.00772798</td>\n",
              "    </tr>\n",
              "    <tr>\n",
              "      <th>9</th>\n",
              "      <td>im</td>\n",
              "      <td>5</td>\n",
              "      <td>0.00772798</td>\n",
              "    </tr>\n",
              "    <tr>\n",
              "      <th>10</th>\n",
              "      <td>really</td>\n",
              "      <td>5</td>\n",
              "      <td>0.00772798</td>\n",
              "    </tr>\n",
              "    <tr>\n",
              "      <th>11</th>\n",
              "      <td>miss</td>\n",
              "      <td>5</td>\n",
              "      <td>0.00772798</td>\n",
              "    </tr>\n",
              "    <tr>\n",
              "      <th>12</th>\n",
              "      <td>got</td>\n",
              "      <td>5</td>\n",
              "      <td>0.00772798</td>\n",
              "    </tr>\n",
              "    <tr>\n",
              "      <th>13</th>\n",
              "      <td>like</td>\n",
              "      <td>4</td>\n",
              "      <td>0.00618238</td>\n",
              "    </tr>\n",
              "    <tr>\n",
              "      <th>14</th>\n",
              "      <td>much</td>\n",
              "      <td>4</td>\n",
              "      <td>0.00618238</td>\n",
              "    </tr>\n",
              "    <tr>\n",
              "      <th>15</th>\n",
              "      <td>could</td>\n",
              "      <td>4</td>\n",
              "      <td>0.00618238</td>\n",
              "    </tr>\n",
              "    <tr>\n",
              "      <th>16</th>\n",
              "      <td>week</td>\n",
              "      <td>3</td>\n",
              "      <td>0.00463679</td>\n",
              "    </tr>\n",
              "    <tr>\n",
              "      <th>17</th>\n",
              "      <td>days</td>\n",
              "      <td>3</td>\n",
              "      <td>0.00463679</td>\n",
              "    </tr>\n",
              "    <tr>\n",
              "      <th>18</th>\n",
              "      <td>gonna</td>\n",
              "      <td>3</td>\n",
              "      <td>0.00463679</td>\n",
              "    </tr>\n",
              "    <tr>\n",
              "      <th>19</th>\n",
              "      <td>right</td>\n",
              "      <td>3</td>\n",
              "      <td>0.00463679</td>\n",
              "    </tr>\n",
              "    <tr>\n",
              "      <th>20</th>\n",
              "      <td>well</td>\n",
              "      <td>3</td>\n",
              "      <td>0.00463679</td>\n",
              "    </tr>\n",
              "    <tr>\n",
              "      <th>21</th>\n",
              "      <td>hate</td>\n",
              "      <td>3</td>\n",
              "      <td>0.00463679</td>\n",
              "    </tr>\n",
              "    <tr>\n",
              "      <th>22</th>\n",
              "      <td>tonight</td>\n",
              "      <td>3</td>\n",
              "      <td>0.00463679</td>\n",
              "    </tr>\n",
              "    <tr>\n",
              "      <th>23</th>\n",
              "      <td>one</td>\n",
              "      <td>3</td>\n",
              "      <td>0.00463679</td>\n",
              "    </tr>\n",
              "    <tr>\n",
              "      <th>24</th>\n",
              "      <td>need</td>\n",
              "      <td>3</td>\n",
              "      <td>0.00463679</td>\n",
              "    </tr>\n",
              "    <tr>\n",
              "      <th>25</th>\n",
              "      <td>wish</td>\n",
              "      <td>3</td>\n",
              "      <td>0.00463679</td>\n",
              "    </tr>\n",
              "    <tr>\n",
              "      <th>26</th>\n",
              "      <td>today</td>\n",
              "      <td>3</td>\n",
              "      <td>0.00463679</td>\n",
              "    </tr>\n",
              "    <tr>\n",
              "      <th>27</th>\n",
              "      <td>sad</td>\n",
              "      <td>3</td>\n",
              "      <td>0.00463679</td>\n",
              "    </tr>\n",
              "    <tr>\n",
              "      <th>28</th>\n",
              "      <td>home</td>\n",
              "      <td>3</td>\n",
              "      <td>0.00463679</td>\n",
              "    </tr>\n",
              "    <tr>\n",
              "      <th>29</th>\n",
              "      <td>love</td>\n",
              "      <td>3</td>\n",
              "      <td>0.00463679</td>\n",
              "    </tr>\n",
              "    <tr>\n",
              "      <th>...</th>\n",
              "      <td>...</td>\n",
              "      <td>...</td>\n",
              "      <td>...</td>\n",
              "    </tr>\n",
              "    <tr>\n",
              "      <th>465</th>\n",
              "      <td>television</td>\n",
              "      <td>1</td>\n",
              "      <td>0.0015456</td>\n",
              "    </tr>\n",
              "    <tr>\n",
              "      <th>466</th>\n",
              "      <td>acl</td>\n",
              "      <td>1</td>\n",
              "      <td>0.0015456</td>\n",
              "    </tr>\n",
              "    <tr>\n",
              "      <th>467</th>\n",
              "      <td>tear</td>\n",
              "      <td>1</td>\n",
              "      <td>0.0015456</td>\n",
              "    </tr>\n",
              "    <tr>\n",
              "      <th>468</th>\n",
              "      <td>room</td>\n",
              "      <td>1</td>\n",
              "      <td>0.0015456</td>\n",
              "    </tr>\n",
              "    <tr>\n",
              "      <th>469</th>\n",
              "      <td>wardrobe</td>\n",
              "      <td>1</td>\n",
              "      <td>0.0015456</td>\n",
              "    </tr>\n",
              "    <tr>\n",
              "      <th>470</th>\n",
              "      <td>fucked</td>\n",
              "      <td>1</td>\n",
              "      <td>0.0015456</td>\n",
              "    </tr>\n",
              "    <tr>\n",
              "      <th>471</th>\n",
              "      <td>million</td>\n",
              "      <td>1</td>\n",
              "      <td>0.0015456</td>\n",
              "    </tr>\n",
              "    <tr>\n",
              "      <th>472</th>\n",
              "      <td>msn</td>\n",
              "      <td>1</td>\n",
              "      <td>0.0015456</td>\n",
              "    </tr>\n",
              "    <tr>\n",
              "      <th>473</th>\n",
              "      <td>:\\</td>\n",
              "      <td>1</td>\n",
              "      <td>0.0015456</td>\n",
              "    </tr>\n",
              "    <tr>\n",
              "      <th>474</th>\n",
              "      <td>brother</td>\n",
              "      <td>1</td>\n",
              "      <td>0.0015456</td>\n",
              "    </tr>\n",
              "    <tr>\n",
              "      <th>475</th>\n",
              "      <td>virus?</td>\n",
              "      <td>1</td>\n",
              "      <td>0.0015456</td>\n",
              "    </tr>\n",
              "    <tr>\n",
              "      <th>476</th>\n",
              "      <td>downloads</td>\n",
              "      <td>1</td>\n",
              "      <td>0.0015456</td>\n",
              "    </tr>\n",
              "    <tr>\n",
              "      <th>477</th>\n",
              "      <td>spaz</td>\n",
              "      <td>1</td>\n",
              "      <td>0.0015456</td>\n",
              "    </tr>\n",
              "    <tr>\n",
              "      <th>478</th>\n",
              "      <td>type</td>\n",
              "      <td>1</td>\n",
              "      <td>0.0015456</td>\n",
              "    </tr>\n",
              "    <tr>\n",
              "      <th>479</th>\n",
              "      <td>friendster</td>\n",
              "      <td>1</td>\n",
              "      <td>0.0015456</td>\n",
              "    </tr>\n",
              "    <tr>\n",
              "      <th>480</th>\n",
              "      <td>pictures</td>\n",
              "      <td>1</td>\n",
              "      <td>0.0015456</td>\n",
              "    </tr>\n",
              "    <tr>\n",
              "      <th>481</th>\n",
              "      <td>uploading</td>\n",
              "      <td>1</td>\n",
              "      <td>0.0015456</td>\n",
              "    </tr>\n",
              "    <tr>\n",
              "      <th>482</th>\n",
              "      <td>bf</td>\n",
              "      <td>1</td>\n",
              "      <td>0.0015456</td>\n",
              "    </tr>\n",
              "    <tr>\n",
              "      <th>483</th>\n",
              "      <td>cant</td>\n",
              "      <td>1</td>\n",
              "      <td>0.0015456</td>\n",
              "    </tr>\n",
              "    <tr>\n",
              "      <th>484</th>\n",
              "      <td>scolding!</td>\n",
              "      <td>1</td>\n",
              "      <td>0.0015456</td>\n",
              "    </tr>\n",
              "    <tr>\n",
              "      <th>485</th>\n",
              "      <td>cheating</td>\n",
              "      <td>1</td>\n",
              "      <td>0.0015456</td>\n",
              "    </tr>\n",
              "    <tr>\n",
              "      <th>486</th>\n",
              "      <td>relievers</td>\n",
              "      <td>1</td>\n",
              "      <td>0.0015456</td>\n",
              "    </tr>\n",
              "    <tr>\n",
              "      <th>487</th>\n",
              "      <td>me!!!</td>\n",
              "      <td>1</td>\n",
              "      <td>0.0015456</td>\n",
              "    </tr>\n",
              "    <tr>\n",
              "      <th>488</th>\n",
              "      <td>floyd</td>\n",
              "      <td>1</td>\n",
              "      <td>0.0015456</td>\n",
              "    </tr>\n",
              "    <tr>\n",
              "      <th>489</th>\n",
              "      <td>sox!</td>\n",
              "      <td>1</td>\n",
              "      <td>0.0015456</td>\n",
              "    </tr>\n",
              "    <tr>\n",
              "      <th>490</th>\n",
              "      <td>yay</td>\n",
              "      <td>1</td>\n",
              "      <td>0.0015456</td>\n",
              "    </tr>\n",
              "    <tr>\n",
              "      <th>491</th>\n",
              "      <td>walk</td>\n",
              "      <td>1</td>\n",
              "      <td>0.0015456</td>\n",
              "    </tr>\n",
              "    <tr>\n",
              "      <th>492</th>\n",
              "      <td>till</td>\n",
              "      <td>1</td>\n",
              "      <td>0.0015456</td>\n",
              "    </tr>\n",
              "    <tr>\n",
              "      <th>493</th>\n",
              "      <td>waiit</td>\n",
              "      <td>1</td>\n",
              "      <td>0.0015456</td>\n",
              "    </tr>\n",
              "    <tr>\n",
              "      <th>494</th>\n",
              "      <td>doing!</td>\n",
              "      <td>1</td>\n",
              "      <td>0.0015456</td>\n",
              "    </tr>\n",
              "  </tbody>\n",
              "</table>\n",
              "<p>495 rows × 3 columns</p>\n",
              "</div>"
            ],
            "text/plain": [
              "           word count        freq\n",
              "0           i'm     9   0.0139104\n",
              "1            go     7   0.0108192\n",
              "2          want     6  0.00927357\n",
              "3           get     6  0.00927357\n",
              "4         think     6  0.00927357\n",
              "5           new     6  0.00927357\n",
              "6          work     5  0.00772798\n",
              "7           see     5  0.00772798\n",
              "8         going     5  0.00772798\n",
              "9            im     5  0.00772798\n",
              "10       really     5  0.00772798\n",
              "11         miss     5  0.00772798\n",
              "12          got     5  0.00772798\n",
              "13         like     4  0.00618238\n",
              "14         much     4  0.00618238\n",
              "15        could     4  0.00618238\n",
              "16         week     3  0.00463679\n",
              "17         days     3  0.00463679\n",
              "18        gonna     3  0.00463679\n",
              "19        right     3  0.00463679\n",
              "20         well     3  0.00463679\n",
              "21         hate     3  0.00463679\n",
              "22      tonight     3  0.00463679\n",
              "23          one     3  0.00463679\n",
              "24         need     3  0.00463679\n",
              "25         wish     3  0.00463679\n",
              "26        today     3  0.00463679\n",
              "27          sad     3  0.00463679\n",
              "28         home     3  0.00463679\n",
              "29         love     3  0.00463679\n",
              "..          ...   ...         ...\n",
              "465  television     1   0.0015456\n",
              "466         acl     1   0.0015456\n",
              "467        tear     1   0.0015456\n",
              "468        room     1   0.0015456\n",
              "469    wardrobe     1   0.0015456\n",
              "470      fucked     1   0.0015456\n",
              "471     million     1   0.0015456\n",
              "472         msn     1   0.0015456\n",
              "473          :\\     1   0.0015456\n",
              "474     brother     1   0.0015456\n",
              "475      virus?     1   0.0015456\n",
              "476   downloads     1   0.0015456\n",
              "477        spaz     1   0.0015456\n",
              "478        type     1   0.0015456\n",
              "479  friendster     1   0.0015456\n",
              "480    pictures     1   0.0015456\n",
              "481   uploading     1   0.0015456\n",
              "482          bf     1   0.0015456\n",
              "483        cant     1   0.0015456\n",
              "484   scolding!     1   0.0015456\n",
              "485    cheating     1   0.0015456\n",
              "486   relievers     1   0.0015456\n",
              "487       me!!!     1   0.0015456\n",
              "488       floyd     1   0.0015456\n",
              "489        sox!     1   0.0015456\n",
              "490         yay     1   0.0015456\n",
              "491        walk     1   0.0015456\n",
              "492        till     1   0.0015456\n",
              "493       waiit     1   0.0015456\n",
              "494      doing!     1   0.0015456\n",
              "\n",
              "[495 rows x 3 columns]"
            ]
          },
          "metadata": {
            "tags": []
          },
          "execution_count": 59
        }
      ]
    },
    {
      "metadata": {
        "id": "OR1cEQkOt3yI",
        "colab_type": "text"
      },
      "cell_type": "markdown",
      "source": [
        "plot Zipf's law graph with occurrence of each words"
      ]
    },
    {
      "metadata": {
        "id": "m756K11et3US",
        "colab_type": "code",
        "colab": {
          "base_uri": "https://localhost:8080/",
          "height": 393
        },
        "outputId": "b62c79e6-779f-49d3-fd16-59402f04cdd8"
      },
      "cell_type": "code",
      "source": [
        "import matplotlib.pyplot as plt\n",
        "import numpy as np\n",
        "x = np.array(words.loc[:20, 'word'].values)\n",
        "y = words.loc[:20, 'count'].values\n",
        "\n",
        "# plot occurrence of each words\n",
        "plt.xticks(range(len(y)), x)\n",
        "plt.plot(y, \"ro\")\n",
        "plt.xlabel(\"word\")\n",
        "plt.ylabel(\"word count\")\n",
        "plt.title(\"Zipf's law(occurrence of each words)\")\n"
      ],
      "execution_count": 60,
      "outputs": [
        {
          "output_type": "execute_result",
          "data": {
            "text/plain": [
              "Text(0.5,1,\"Zipf's law(occurrence of each words)\")"
            ]
          },
          "metadata": {
            "tags": []
          },
          "execution_count": 60
        },
        {
          "output_type": "display_data",
          "data": {
            "image/png": "[encoded data removed]",
            "text/plain": [
              "<matplotlib.figure.Figure at 0x7f3c289e0630>"
            ]
          },
          "metadata": {
            "tags": []
          }
        }
      ]
    },
    {
      "metadata": {
        "id": "6UkKB0DW9rD2",
        "colab_type": "text"
      },
      "cell_type": "markdown",
      "source": [
        " after checked Zipf's law run removeStopwords function "
      ]
    },
    {
      "metadata": {
        "id": "tSUysI-hqQhG",
        "colab_type": "code",
        "colab": {}
      },
      "cell_type": "code",
      "source": [
        "cleaned_text = []\n",
        "for i in range(df_size[0]):\n",
        "  cleaned_text.append(removeStopwords(df.loc[i, 'SentimentText']))\n",
        "\n",
        "df['SentimentText'] = cleaned_text"
      ],
      "execution_count": 0,
      "outputs": []
    },
    {
      "metadata": {
        "id": "M_EVkFQ-SAid",
        "colab_type": "text"
      },
      "cell_type": "markdown",
      "source": [
        "##split cleaned dataset to train and test dataset"
      ]
    },
    {
      "metadata": {
        "id": "cw0MMM-naHwA",
        "colab_type": "code",
        "colab": {}
      },
      "cell_type": "code",
      "source": [
        "from sklearn.model_selection import train_test_split\n",
        "\n",
        "train, test = train_test_split(df, test_size=0.1)\n",
        "train = train.reset_index(drop=True)\n",
        "test = test.reset_index(drop=True)\n"
      ],
      "execution_count": 0,
      "outputs": []
    },
    {
      "metadata": {
        "id": "B6VynN4EdGd1",
        "colab_type": "text"
      },
      "cell_type": "markdown",
      "source": [
        "# build my own classifier\n",
        "use Naive Bayes classifier  since it is very efficient and easy to understand.\n",
        "\n",
        "use Laplace smoothing for a case when a word only appears in positive or negative text."
      ]
    },
    {
      "metadata": {
        "id": "sWYXbuyLXlKz",
        "colab_type": "code",
        "colab": {}
      },
      "cell_type": "code",
      "source": [
        "import numpy as np\n",
        "\n",
        "class myClassifier():\n",
        "  def __init__(self):\n",
        "    columns = [\"word\", \"pos\", \"neg\"]\n",
        "    self._words = pd.DataFrame(columns=columns)\n",
        "\n",
        "  def train(self, df):\n",
        "    df_size = df.shape\n",
        "    total = df_size[0]\n",
        "    total_pos = df.Sentiment.sum()\n",
        "    total_neg = total - total_pos \n",
        "    \n",
        "    # set words in text to dataframe\n",
        "    for i in range(total):\n",
        "      for j in df.loc[i,'SentimentText'].split():\n",
        "        if j in self._words['word'].tolist():\n",
        "          self._words.loc[self._words['word'] == j, \"pos\"] += df.loc[i, 'Sentiment']\n",
        "          self._words.loc[self._words['word'] == j, \"neg\"] += 1 if not df.loc[i, 'Sentiment'] else 0\n",
        "        else:\n",
        "          self._words = self._words.append({'word':j, 'pos': df.loc[i, 'Sentiment'], 'neg': 1 if not df.loc[i, 'Sentiment'] else 0 }, ignore_index=True)\n",
        "          \n",
        "\n",
        "  def accuracy(self, df):\n",
        "    df_size = df.shape\n",
        "    total = df_size[0]\n",
        "    total_pos = df.Sentiment.sum()\n",
        "    total_neg = total - total_pos \n",
        "    alpha = 1\n",
        "    shape_words = self._words.shape\n",
        "    total_words = shape_words[0]\n",
        "    testResult = []\n",
        "    \n",
        "    for i in range(total):\n",
        "      likelifoood_pos = []\n",
        "      likelifoood_neg = []\n",
        "      for j in df.loc[i, 'SentimentText'].split():\n",
        "        if j in self._words['word'].tolist():\n",
        "          likelifoood_pos.append((self._words.loc[self._words['word'] == j]['pos'].values[0] + alpha)/(total_pos + total_words))\n",
        "          likelifoood_neg.append((self._words.loc[self._words['word'] == j]['neg'].values[0] + alpha)/(total_neg + total_words))\n",
        "\n",
        "      \n",
        "      testResult.append(1 if np.prod(likelifoood_pos) > np.prod(likelifoood_neg) else 0)\n",
        "    \n",
        "    df['testResult'] = testResult\n",
        "    successful = df.loc[df['Sentiment'] == df['testResult']].shape\n",
        "    \n",
        "    #print accuracy of prediction\n",
        "    print(\"accuracy of prediction: {:04.2f}\".format(successful[0]/total))\n",
        "    \n",
        "  def top_ten_words(self, negpos):\n",
        "    print(\"top 10 {} words\".format(\"Positive\" if negpos == 1 else \"Negative\"))\n",
        "    \n",
        "    col = [\"pos\", \"neg\"] if negpos == 1 else [\"neg\", \"pos\"]\n",
        "    top_ten = self._words.loc[self._words[col[0]] > self._words[col[1]]].sort_values(by = [col[0],col[1]], ascending=[False, True])[:10]\n",
        "    top_ten = top_ten.reset_index(drop=True)\n",
        "    for i in range(10):\n",
        "      print(\"{}. {}\\t\\tcount:{}\".format(i+1, top_ten.loc[i, 'word'], top_ten.loc[i, col[0]]))\n"
      ],
      "execution_count": 0,
      "outputs": []
    },
    {
      "metadata": {
        "id": "KhTsp-xuBgDF",
        "colab_type": "text"
      },
      "cell_type": "markdown",
      "source": [
        "## train classifier with train dataset"
      ]
    },
    {
      "metadata": {
        "id": "c44-pMpxUtzP",
        "colab_type": "code",
        "colab": {}
      },
      "cell_type": "code",
      "source": [
        "nvClasifier = myClassifier()\n",
        "nvClasifier.train(train)\n"
      ],
      "execution_count": 0,
      "outputs": []
    },
    {
      "metadata": {
        "id": "fISYVonfBwh5",
        "colab_type": "text"
      },
      "cell_type": "markdown",
      "source": [
        "## check accuracy of classifier with test dataset"
      ]
    },
    {
      "metadata": {
        "id": "1cn-94kMB1ZJ",
        "colab_type": "code",
        "colab": {
          "base_uri": "https://localhost:8080/",
          "height": 34
        },
        "outputId": "7ea6083c-710a-4607-923c-002b62953598"
      },
      "cell_type": "code",
      "source": [
        "nvClasifier.accuracy(test)"
      ],
      "execution_count": 55,
      "outputs": [
        {
          "output_type": "stream",
          "text": [
            "accuracy of prediction: 0.80\n"
          ],
          "name": "stdout"
        }
      ]
    },
    {
      "metadata": {
        "id": "npJ_FlpgUtiV",
        "colab_type": "text"
      },
      "cell_type": "markdown",
      "source": [
        "## show top 10 positive words"
      ]
    },
    {
      "metadata": {
        "id": "NqVGzxwIB_fw",
        "colab_type": "code",
        "colab": {
          "base_uri": "https://localhost:8080/",
          "height": 204
        },
        "outputId": "f2d3cfc5-bb2a-4c2b-ed3c-30419cde0387"
      },
      "cell_type": "code",
      "source": [
        "nvClasifier.top_ten_words(1)"
      ],
      "execution_count": 56,
      "outputs": [
        {
          "output_type": "stream",
          "text": [
            "top 10 Positive words\n",
            "1. go\t\tcount:4\n",
            "2. got\t\tcount:3\n",
            "3. see\t\tcount:3\n",
            "4. seen\t\tcount:2\n",
            "5. boom\t\tcount:2\n",
            "6. tonight\t\tcount:2\n",
            "7. gonna\t\tcount:2\n",
            "8. one\t\tcount:2\n",
            "9. show\t\tcount:1\n",
            "10. bend\t\tcount:1\n"
          ],
          "name": "stdout"
        }
      ]
    },
    {
      "metadata": {
        "id": "S9DpJPXjCABU",
        "colab_type": "text"
      },
      "cell_type": "markdown",
      "source": [
        "## show top 10 negative words"
      ]
    },
    {
      "metadata": {
        "id": "MPE3oX3nCDGE",
        "colab_type": "code",
        "colab": {
          "base_uri": "https://localhost:8080/",
          "height": 204
        },
        "outputId": "d40badf4-c776-49ed-9440-d6e3f8f17328"
      },
      "cell_type": "code",
      "source": [
        "nvClasifier.top_ten_words(0)"
      ],
      "execution_count": 57,
      "outputs": [
        {
          "output_type": "stream",
          "text": [
            "top 10 Negative words\n",
            "1. think\t\tcount:5\n",
            "2. like\t\tcount:4\n",
            "3. much\t\tcount:4\n",
            "4. work\t\tcount:4\n",
            "5. really\t\tcount:4\n",
            "6. im\t\tcount:4\n",
            "7. new\t\tcount:4\n",
            "8. want\t\tcount:4\n",
            "9. i'm\t\tcount:4\n",
            "10. wish\t\tcount:3\n"
          ],
          "name": "stdout"
        }
      ]
    }
  ]
}