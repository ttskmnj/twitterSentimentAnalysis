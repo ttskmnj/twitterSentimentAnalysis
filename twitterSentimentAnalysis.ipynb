{
  "nbformat": 4,
  "nbformat_minor": 0,
  "metadata": {
    "colab": {
      "name": "twitterSentimentAnalysis.ipynb",
      "version": "0.3.2",
      "provenance": [],
      "collapsed_sections": []
    },
    "kernelspec": {
      "name": "python3",
      "display_name": "Python 3"
    }
  },
  "cells": [
    {
      "metadata": {
        "id": "nNR0wmks3wBd",
        "colab_type": "text"
      },
      "cell_type": "markdown",
      "source": [
        "### get dataset\n",
        "Download  Twitter Sentiment Analysis Dataset and extract.\n",
        "\n",
        "The Twitter Sentiment Analysis Dataset contains 1,578,627 classified tweets, each row is marked as 1 for positive sentiment and 0 for negative sentiment. "
      ]
    },
    {
      "metadata": {
        "id": "txRn8X3UsoDH",
        "colab_type": "code",
        "colab": {
          "base_uri": "https://localhost:8080/",
          "height": 85
        },
        "outputId": "56a07524-569d-4d4b-8f72-0d8928e3be62"
      },
      "cell_type": "code",
      "source": [
        "!wget http://thinknook.com/wp-content/uploads/2012/09/Sentiment-Analysis-Dataset.zip\n",
        "!unzip Sentiment-Analysis-Dataset.zip"
      ],
      "execution_count": 1,
      "outputs": [
        {
          "output_type": "stream",
          "text": [
            "\n",
            "Redirecting output to ‘wget-log’.\n",
            "Archive:  Sentiment-Analysis-Dataset.zip\n",
            "  inflating: Sentiment Analysis Dataset.csv  \n"
          ],
          "name": "stdout"
        }
      ]
    },
    {
      "metadata": {
        "id": "ZGFBquMX37MA",
        "colab_type": "text"
      },
      "cell_type": "markdown",
      "source": [
        "## set dataset to dataframe and drop unused columns\n",
        "Set dataset to pandas dataframe.\n",
        "\n",
        "Since  only \"Sentiment\" and \"SentimentText\" columns are used for sentiment analysis, drop other columns."
      ]
    },
    {
      "metadata": {
        "id": "GLG7qPY7YP4n",
        "colab_type": "code",
        "colab": {
          "base_uri": "https://localhost:8080/",
          "height": 51
        },
        "outputId": "9c1225e8-5391-46d3-cea8-0c5cd8677cab"
      },
      "cell_type": "code",
      "source": [
        "import pandas as pd\n",
        "csv = \"Sentiment Analysis Dataset.csv\"\n",
        "df = pd.read_csv(csv, error_bad_lines=False)\n",
        "\n",
        "\n",
        "# drop columns other than Sentiment and SentimentText\n",
        "df = df[['Sentiment','SentimentText']]"
      ],
      "execution_count": 6,
      "outputs": [
        {
          "output_type": "stream",
          "text": [
            "b'Skipping line 8836: expected 4 fields, saw 5\\n'\n",
            "b'Skipping line 535882: expected 4 fields, saw 7\\n'\n"
          ],
          "name": "stderr"
        }
      ]
    },
    {
      "metadata": {
        "id": "0LWiDsKkG9ln",
        "colab_type": "text"
      },
      "cell_type": "markdown",
      "source": [
        "## preprocess text\n",
        "make function to remove hashtags, mentions, links and special character.\n"
      ]
    },
    {
      "metadata": {
        "id": "O7Y2xGSnG9MY",
        "colab_type": "code",
        "colab": {}
      },
      "cell_type": "code",
      "source": [
        "import re\n",
        "\n",
        "def cleanText(text):\n",
        "  clean_words = []\n",
        "  \n",
        "  for word in text.split():\n",
        "    word = word.lower()\n",
        "    if 'http' not in word and not word.startswith('@')\\\n",
        "       and not word.startswith('#') and word != 'RT' and not word.startswith('&'):\n",
        "      word = re.sub(r'[\\-.,]', '', word)  \n",
        "      clean_words.append(word)\n",
        " \n",
        "  return \" \".join(clean_words)\n",
        "      "
      ],
      "execution_count": 0,
      "outputs": []
    },
    {
      "metadata": {
        "id": "01wN0Uw4R4es",
        "colab_type": "text"
      },
      "cell_type": "markdown",
      "source": [
        "make function to  remove stopwords from text.\n",
        "\n"
      ]
    },
    {
      "metadata": {
        "id": "6QggTLGxSGCT",
        "colab_type": "code",
        "colab": {
          "base_uri": "https://localhost:8080/",
          "height": 51
        },
        "outputId": "5249def6-db43-4cb8-953a-396fb88b1217"
      },
      "cell_type": "code",
      "source": [
        "import nltk\n",
        "nltk.download('stopwords')\n",
        "from nltk.corpus import stopwords\n",
        "\n",
        "def removeStopwords(text):\n",
        "  clean_words = []\n",
        "  \n",
        "  for word in text.split():\n",
        "    if word not in stopwords.words(\"english\"):\n",
        "      clean_words.append(word)\n",
        " \n",
        "  return \" \".join(clean_words)"
      ],
      "execution_count": 8,
      "outputs": [
        {
          "output_type": "stream",
          "text": [
            "[nltk_data] Downloading package stopwords to /root/nltk_data...\n",
            "[nltk_data]   Package stopwords is already up-to-date!\n"
          ],
          "name": "stdout"
        }
      ]
    },
    {
      "metadata": {
        "id": "C1UneLxNpgJR",
        "colab_type": "text"
      },
      "cell_type": "markdown",
      "source": [
        "run cleanText() function"
      ]
    },
    {
      "metadata": {
        "id": "vD0vXtHLSBkD",
        "colab_type": "code",
        "colab": {}
      },
      "cell_type": "code",
      "source": [
        "df_size = df.shape\n",
        "cleaned_text = []\n",
        "\n",
        "cleaned_text = df.apply(lambda row: cleanText(row['SentimentText']), axis=1)\n",
        "\n",
        "df['SentimentText'] = cleaned_text"
      ],
      "execution_count": 0,
      "outputs": []
    },
    {
      "metadata": {
        "id": "UlXhBFklqBL4",
        "colab_type": "text"
      },
      "cell_type": "markdown",
      "source": [
        "## Zipf's law\n",
        "check Zipf's law before running removeStopwords() function since it will remove a lot words from dataset.\n",
        " \n",
        "make words dataframe from dataset."
      ]
    },
    {
      "metadata": {
        "id": "Up3G5h17qPRU",
        "colab_type": "code",
        "colab": {}
      },
      "cell_type": "code",
      "source": [
        "columns = [\"word\", \"count\", \"freq\"]\n",
        "words = pd.DataFrame(columns=columns)\n",
        "\n",
        "for index, row in df.iterrows():\n",
        "  for i in row['SentimentText'].split():\n",
        "    if i in words['word'].tolist():\n",
        "      words.loc[words['word'] == i, \"count\"] += 1\n",
        "    else:\n",
        "      words = words.append({'word':i, 'count': 1}, ignore_index=True)\n"
      ],
      "execution_count": 0,
      "outputs": []
    },
    {
      "metadata": {
        "id": "DMO6wBPwo0pE",
        "colab_type": "text"
      },
      "cell_type": "markdown",
      "source": [
        "calcurate word's frequency"
      ]
    },
    {
      "metadata": {
        "id": "fJk-jfDBo4Ce",
        "colab_type": "code",
        "colab": {
          "base_uri": "https://localhost:8080/",
          "height": 1969
        },
        "outputId": "526b74f6-e89c-4f46-a2d9-258ba3502067"
      },
      "cell_type": "code",
      "source": [
        "total_count = words['count'].sum()\n",
        "words['freq'] = words['count'] / total_count\n",
        "words = words.sort_values(by=\"count\", ascending=False)\n",
        "words.reset_index(drop=True)"
      ],
      "execution_count": 11,
      "outputs": [
        {
          "output_type": "execute_result",
          "data": {
            "text/html": [
              "<div>\n",
              "<style scoped>\n",
              "    .dataframe tbody tr th:only-of-type {\n",
              "        vertical-align: middle;\n",
              "    }\n",
              "\n",
              "    .dataframe tbody tr th {\n",
              "        vertical-align: top;\n",
              "    }\n",
              "\n",
              "    .dataframe thead th {\n",
              "        text-align: right;\n",
              "    }\n",
              "</style>\n",
              "<table border=\"1\" class=\"dataframe\">\n",
              "  <thead>\n",
              "    <tr style=\"text-align: right;\">\n",
              "      <th></th>\n",
              "      <th>word</th>\n",
              "      <th>count</th>\n",
              "      <th>freq</th>\n",
              "    </tr>\n",
              "  </thead>\n",
              "  <tbody>\n",
              "    <tr>\n",
              "      <th>0</th>\n",
              "      <td>i</td>\n",
              "      <td>70</td>\n",
              "      <td>0.0633484</td>\n",
              "    </tr>\n",
              "    <tr>\n",
              "      <th>1</th>\n",
              "      <td>to</td>\n",
              "      <td>33</td>\n",
              "      <td>0.0298643</td>\n",
              "    </tr>\n",
              "    <tr>\n",
              "      <th>2</th>\n",
              "      <td>a</td>\n",
              "      <td>26</td>\n",
              "      <td>0.0235294</td>\n",
              "    </tr>\n",
              "    <tr>\n",
              "      <th>3</th>\n",
              "      <td>my</td>\n",
              "      <td>22</td>\n",
              "      <td>0.0199095</td>\n",
              "    </tr>\n",
              "    <tr>\n",
              "      <th>4</th>\n",
              "      <td>the</td>\n",
              "      <td>21</td>\n",
              "      <td>0.0190045</td>\n",
              "    </tr>\n",
              "    <tr>\n",
              "      <th>5</th>\n",
              "      <td>in</td>\n",
              "      <td>16</td>\n",
              "      <td>0.0144796</td>\n",
              "    </tr>\n",
              "    <tr>\n",
              "      <th>6</th>\n",
              "      <td>is</td>\n",
              "      <td>15</td>\n",
              "      <td>0.0135747</td>\n",
              "    </tr>\n",
              "    <tr>\n",
              "      <th>7</th>\n",
              "      <td>of</td>\n",
              "      <td>13</td>\n",
              "      <td>0.0117647</td>\n",
              "    </tr>\n",
              "    <tr>\n",
              "      <th>8</th>\n",
              "      <td>it</td>\n",
              "      <td>11</td>\n",
              "      <td>0.00995475</td>\n",
              "    </tr>\n",
              "    <tr>\n",
              "      <th>9</th>\n",
              "      <td>now</td>\n",
              "      <td>10</td>\n",
              "      <td>0.00904977</td>\n",
              "    </tr>\n",
              "    <tr>\n",
              "      <th>10</th>\n",
              "      <td>so</td>\n",
              "      <td>10</td>\n",
              "      <td>0.00904977</td>\n",
              "    </tr>\n",
              "    <tr>\n",
              "      <th>11</th>\n",
              "      <td>on</td>\n",
              "      <td>9</td>\n",
              "      <td>0.0081448</td>\n",
              "    </tr>\n",
              "    <tr>\n",
              "      <th>12</th>\n",
              "      <td>i'm</td>\n",
              "      <td>9</td>\n",
              "      <td>0.0081448</td>\n",
              "    </tr>\n",
              "    <tr>\n",
              "      <th>13</th>\n",
              "      <td>me</td>\n",
              "      <td>9</td>\n",
              "      <td>0.0081448</td>\n",
              "    </tr>\n",
              "    <tr>\n",
              "      <th>14</th>\n",
              "      <td>you</td>\n",
              "      <td>8</td>\n",
              "      <td>0.00723982</td>\n",
              "    </tr>\n",
              "    <tr>\n",
              "      <th>15</th>\n",
              "      <td>and</td>\n",
              "      <td>8</td>\n",
              "      <td>0.00723982</td>\n",
              "    </tr>\n",
              "    <tr>\n",
              "      <th>16</th>\n",
              "      <td>this</td>\n",
              "      <td>8</td>\n",
              "      <td>0.00723982</td>\n",
              "    </tr>\n",
              "    <tr>\n",
              "      <th>17</th>\n",
              "      <td>go</td>\n",
              "      <td>7</td>\n",
              "      <td>0.00633484</td>\n",
              "    </tr>\n",
              "    <tr>\n",
              "      <th>18</th>\n",
              "      <td>just</td>\n",
              "      <td>7</td>\n",
              "      <td>0.00633484</td>\n",
              "    </tr>\n",
              "    <tr>\n",
              "      <th>19</th>\n",
              "      <td>be</td>\n",
              "      <td>7</td>\n",
              "      <td>0.00633484</td>\n",
              "    </tr>\n",
              "    <tr>\n",
              "      <th>20</th>\n",
              "      <td>want</td>\n",
              "      <td>6</td>\n",
              "      <td>0.00542986</td>\n",
              "    </tr>\n",
              "    <tr>\n",
              "      <th>21</th>\n",
              "      <td>think</td>\n",
              "      <td>6</td>\n",
              "      <td>0.00542986</td>\n",
              "    </tr>\n",
              "    <tr>\n",
              "      <th>22</th>\n",
              "      <td>all</td>\n",
              "      <td>6</td>\n",
              "      <td>0.00542986</td>\n",
              "    </tr>\n",
              "    <tr>\n",
              "      <th>23</th>\n",
              "      <td>have</td>\n",
              "      <td>6</td>\n",
              "      <td>0.00542986</td>\n",
              "    </tr>\n",
              "    <tr>\n",
              "      <th>24</th>\n",
              "      <td>was</td>\n",
              "      <td>6</td>\n",
              "      <td>0.00542986</td>\n",
              "    </tr>\n",
              "    <tr>\n",
              "      <th>25</th>\n",
              "      <td>for</td>\n",
              "      <td>6</td>\n",
              "      <td>0.00542986</td>\n",
              "    </tr>\n",
              "    <tr>\n",
              "      <th>26</th>\n",
              "      <td>new</td>\n",
              "      <td>6</td>\n",
              "      <td>0.00542986</td>\n",
              "    </tr>\n",
              "    <tr>\n",
              "      <th>27</th>\n",
              "      <td>get</td>\n",
              "      <td>6</td>\n",
              "      <td>0.00542986</td>\n",
              "    </tr>\n",
              "    <tr>\n",
              "      <th>28</th>\n",
              "      <td>see</td>\n",
              "      <td>5</td>\n",
              "      <td>0.00452489</td>\n",
              "    </tr>\n",
              "    <tr>\n",
              "      <th>29</th>\n",
              "      <td>miss</td>\n",
              "      <td>5</td>\n",
              "      <td>0.00452489</td>\n",
              "    </tr>\n",
              "    <tr>\n",
              "      <th>...</th>\n",
              "      <td>...</td>\n",
              "      <td>...</td>\n",
              "      <td>...</td>\n",
              "    </tr>\n",
              "    <tr>\n",
              "      <th>549</th>\n",
              "      <td>cute</td>\n",
              "      <td>1</td>\n",
              "      <td>0.000904977</td>\n",
              "    </tr>\n",
              "    <tr>\n",
              "      <th>550</th>\n",
              "      <td>jeans</td>\n",
              "      <td>1</td>\n",
              "      <td>0.000904977</td>\n",
              "    </tr>\n",
              "    <tr>\n",
              "      <th>551</th>\n",
              "      <td>walk</td>\n",
              "      <td>1</td>\n",
              "      <td>0.000904977</td>\n",
              "    </tr>\n",
              "    <tr>\n",
              "      <th>552</th>\n",
              "      <td>yay</td>\n",
              "      <td>1</td>\n",
              "      <td>0.000904977</td>\n",
              "    </tr>\n",
              "    <tr>\n",
              "      <th>553</th>\n",
              "      <td>sox!</td>\n",
              "      <td>1</td>\n",
              "      <td>0.000904977</td>\n",
              "    </tr>\n",
              "    <tr>\n",
              "      <th>554</th>\n",
              "      <td>floyd</td>\n",
              "      <td>1</td>\n",
              "      <td>0.000904977</td>\n",
              "    </tr>\n",
              "    <tr>\n",
              "      <th>555</th>\n",
              "      <td>babes</td>\n",
              "      <td>1</td>\n",
              "      <td>0.000904977</td>\n",
              "    </tr>\n",
              "    <tr>\n",
              "      <th>556</th>\n",
              "      <td>wiit</td>\n",
              "      <td>1</td>\n",
              "      <td>0.000904977</td>\n",
              "    </tr>\n",
              "    <tr>\n",
              "      <th>557</th>\n",
              "      <td>t_t</td>\n",
              "      <td>1</td>\n",
              "      <td>0.000904977</td>\n",
              "    </tr>\n",
              "    <tr>\n",
              "      <th>558</th>\n",
              "      <td>forever</td>\n",
              "      <td>1</td>\n",
              "      <td>0.000904977</td>\n",
              "    </tr>\n",
              "    <tr>\n",
              "      <th>559</th>\n",
              "      <td>fucked</td>\n",
              "      <td>1</td>\n",
              "      <td>0.000904977</td>\n",
              "    </tr>\n",
              "    <tr>\n",
              "      <th>560</th>\n",
              "      <td>msn</td>\n",
              "      <td>1</td>\n",
              "      <td>0.000904977</td>\n",
              "    </tr>\n",
              "    <tr>\n",
              "      <th>561</th>\n",
              "      <td>:\\</td>\n",
              "      <td>1</td>\n",
              "      <td>0.000904977</td>\n",
              "    </tr>\n",
              "    <tr>\n",
              "      <th>562</th>\n",
              "      <td>worry</td>\n",
              "      <td>1</td>\n",
              "      <td>0.000904977</td>\n",
              "    </tr>\n",
              "    <tr>\n",
              "      <th>563</th>\n",
              "      <td>brother</td>\n",
              "      <td>1</td>\n",
              "      <td>0.000904977</td>\n",
              "    </tr>\n",
              "    <tr>\n",
              "      <th>564</th>\n",
              "      <td>virus?</td>\n",
              "      <td>1</td>\n",
              "      <td>0.000904977</td>\n",
              "    </tr>\n",
              "    <tr>\n",
              "      <th>565</th>\n",
              "      <td>downloads</td>\n",
              "      <td>1</td>\n",
              "      <td>0.000904977</td>\n",
              "    </tr>\n",
              "    <tr>\n",
              "      <th>566</th>\n",
              "      <td>spaz</td>\n",
              "      <td>1</td>\n",
              "      <td>0.000904977</td>\n",
              "    </tr>\n",
              "    <tr>\n",
              "      <th>567</th>\n",
              "      <td>type</td>\n",
              "      <td>1</td>\n",
              "      <td>0.000904977</td>\n",
              "    </tr>\n",
              "    <tr>\n",
              "      <th>568</th>\n",
              "      <td>friendster</td>\n",
              "      <td>1</td>\n",
              "      <td>0.000904977</td>\n",
              "    </tr>\n",
              "    <tr>\n",
              "      <th>569</th>\n",
              "      <td>pictures</td>\n",
              "      <td>1</td>\n",
              "      <td>0.000904977</td>\n",
              "    </tr>\n",
              "    <tr>\n",
              "      <th>570</th>\n",
              "      <td>uploading</td>\n",
              "      <td>1</td>\n",
              "      <td>0.000904977</td>\n",
              "    </tr>\n",
              "    <tr>\n",
              "      <th>571</th>\n",
              "      <td>million</td>\n",
              "      <td>1</td>\n",
              "      <td>0.000904977</td>\n",
              "    </tr>\n",
              "    <tr>\n",
              "      <th>572</th>\n",
              "      <td>by</td>\n",
              "      <td>1</td>\n",
              "      <td>0.000904977</td>\n",
              "    </tr>\n",
              "    <tr>\n",
              "      <th>573</th>\n",
              "      <td>much?</td>\n",
              "      <td>1</td>\n",
              "      <td>0.000904977</td>\n",
              "    </tr>\n",
              "    <tr>\n",
              "      <th>574</th>\n",
              "      <td>scolding!</td>\n",
              "      <td>1</td>\n",
              "      <td>0.000904977</td>\n",
              "    </tr>\n",
              "    <tr>\n",
              "      <th>575</th>\n",
              "      <td>juuuuuuuuuuuuuuuuussssst</td>\n",
              "      <td>1</td>\n",
              "      <td>0.000904977</td>\n",
              "    </tr>\n",
              "    <tr>\n",
              "      <th>576</th>\n",
              "      <td>relievers</td>\n",
              "      <td>1</td>\n",
              "      <td>0.000904977</td>\n",
              "    </tr>\n",
              "    <tr>\n",
              "      <th>577</th>\n",
              "      <td>chillin!!</td>\n",
              "      <td>1</td>\n",
              "      <td>0.000904977</td>\n",
              "    </tr>\n",
              "    <tr>\n",
              "      <th>578</th>\n",
              "      <td>doing!</td>\n",
              "      <td>1</td>\n",
              "      <td>0.000904977</td>\n",
              "    </tr>\n",
              "  </tbody>\n",
              "</table>\n",
              "<p>579 rows × 3 columns</p>\n",
              "</div>"
            ],
            "text/plain": [
              "                         word count         freq\n",
              "0                           i    70    0.0633484\n",
              "1                          to    33    0.0298643\n",
              "2                           a    26    0.0235294\n",
              "3                          my    22    0.0199095\n",
              "4                         the    21    0.0190045\n",
              "5                          in    16    0.0144796\n",
              "6                          is    15    0.0135747\n",
              "7                          of    13    0.0117647\n",
              "8                          it    11   0.00995475\n",
              "9                         now    10   0.00904977\n",
              "10                         so    10   0.00904977\n",
              "11                         on     9    0.0081448\n",
              "12                        i'm     9    0.0081448\n",
              "13                         me     9    0.0081448\n",
              "14                        you     8   0.00723982\n",
              "15                        and     8   0.00723982\n",
              "16                       this     8   0.00723982\n",
              "17                         go     7   0.00633484\n",
              "18                       just     7   0.00633484\n",
              "19                         be     7   0.00633484\n",
              "20                       want     6   0.00542986\n",
              "21                      think     6   0.00542986\n",
              "22                        all     6   0.00542986\n",
              "23                       have     6   0.00542986\n",
              "24                        was     6   0.00542986\n",
              "25                        for     6   0.00542986\n",
              "26                        new     6   0.00542986\n",
              "27                        get     6   0.00542986\n",
              "28                        see     5   0.00452489\n",
              "29                       miss     5   0.00452489\n",
              "..                        ...   ...          ...\n",
              "549                      cute     1  0.000904977\n",
              "550                     jeans     1  0.000904977\n",
              "551                      walk     1  0.000904977\n",
              "552                       yay     1  0.000904977\n",
              "553                      sox!     1  0.000904977\n",
              "554                     floyd     1  0.000904977\n",
              "555                     babes     1  0.000904977\n",
              "556                      wiit     1  0.000904977\n",
              "557                       t_t     1  0.000904977\n",
              "558                   forever     1  0.000904977\n",
              "559                    fucked     1  0.000904977\n",
              "560                       msn     1  0.000904977\n",
              "561                        :\\     1  0.000904977\n",
              "562                     worry     1  0.000904977\n",
              "563                   brother     1  0.000904977\n",
              "564                    virus?     1  0.000904977\n",
              "565                 downloads     1  0.000904977\n",
              "566                      spaz     1  0.000904977\n",
              "567                      type     1  0.000904977\n",
              "568                friendster     1  0.000904977\n",
              "569                  pictures     1  0.000904977\n",
              "570                 uploading     1  0.000904977\n",
              "571                   million     1  0.000904977\n",
              "572                        by     1  0.000904977\n",
              "573                     much?     1  0.000904977\n",
              "574                 scolding!     1  0.000904977\n",
              "575  juuuuuuuuuuuuuuuuussssst     1  0.000904977\n",
              "576                 relievers     1  0.000904977\n",
              "577                 chillin!!     1  0.000904977\n",
              "578                    doing!     1  0.000904977\n",
              "\n",
              "[579 rows x 3 columns]"
            ]
          },
          "metadata": {
            "tags": []
          },
          "execution_count": 11
        }
      ]
    },
    {
      "metadata": {
        "id": "OR1cEQkOt3yI",
        "colab_type": "text"
      },
      "cell_type": "markdown",
      "source": [
        "plot Zipf's law graph with occurrence of each words"
      ]
    },
    {
      "metadata": {
        "id": "m756K11et3US",
        "colab_type": "code",
        "colab": {
          "base_uri": "https://localhost:8080/",
          "height": 393
        },
        "outputId": "811d9a3c-1d49-45d6-ba6b-f4a649b89def"
      },
      "cell_type": "code",
      "source": [
        "import matplotlib.pyplot as plt\n",
        "import numpy as np\n",
        "x = np.array(words.loc[:20, 'word'].values)\n",
        "y = words.loc[:20, 'count'].values\n",
        "\n",
        "# plot occurrence of each words\n",
        "plt.xticks(range(len(y)), x)\n",
        "plt.plot(y, \"ro\")\n",
        "plt.xlabel(\"word\")\n",
        "plt.ylabel(\"word count\")\n",
        "plt.title(\"Zipf's law(occurrence of each words)\")\n"
      ],
      "execution_count": 12,
      "outputs": [
        {
          "output_type": "execute_result",
          "data": {
            "text/plain": [
              "Text(0.5,1,\"Zipf's law(occurrence of each words)\")"
            ]
          },
          "metadata": {
            "tags": []
          },
          "execution_count": 12
        },
        {
          "output_type": "display_data",
          "data": {
            "image/png": "[encoded data removed]",
            "text/plain": [
              "<matplotlib.figure.Figure at 0x7f7939fe7ba8>"
            ]
          },
          "metadata": {
            "tags": []
          }
        }
      ]
    },
    {
      "metadata": {
        "id": "6UkKB0DW9rD2",
        "colab_type": "text"
      },
      "cell_type": "markdown",
      "source": [
        " after checked Zipf's law run removeStopwords function "
      ]
    },
    {
      "metadata": {
        "id": "tSUysI-hqQhG",
        "colab_type": "code",
        "colab": {}
      },
      "cell_type": "code",
      "source": [
        "cleaned_text = df.apply(lambda row: removeStopwords(row['SentimentText']), axis=1)\n",
        "\n",
        "\n",
        "df['SentimentText'] = cleaned_text"
      ],
      "execution_count": 0,
      "outputs": []
    },
    {
      "metadata": {
        "id": "M_EVkFQ-SAid",
        "colab_type": "text"
      },
      "cell_type": "markdown",
      "source": [
        "##split cleaned dataset to train and test dataset"
      ]
    },
    {
      "metadata": {
        "id": "cw0MMM-naHwA",
        "colab_type": "code",
        "colab": {}
      },
      "cell_type": "code",
      "source": [
        "from sklearn.model_selection import train_test_split\n",
        "\n",
        "train, test = train_test_split(df, test_size=0.1)\n",
        "train = train.reset_index(drop=True)\n",
        "test = test.reset_index(drop=True)\n"
      ],
      "execution_count": 0,
      "outputs": []
    },
    {
      "metadata": {
        "id": "B6VynN4EdGd1",
        "colab_type": "text"
      },
      "cell_type": "markdown",
      "source": [
        "# build my own classifier\n",
        "use Naive Bayes classifier  since it is very efficient and easy to understand.\n",
        "\n",
        "use Laplace smoothing for a case when a word only appears in positive or negative text."
      ]
    },
    {
      "metadata": {
        "id": "sWYXbuyLXlKz",
        "colab_type": "code",
        "colab": {}
      },
      "cell_type": "code",
      "source": [
        "import numpy as np\n",
        "\n",
        "class myClassifier():\n",
        "  def __init__(self):\n",
        "    columns = [\"word\", \"pos\", \"neg\"]\n",
        "    self._words = pd.DataFrame(columns=columns)\n",
        "\n",
        "  def train(self, df):\n",
        "    df_size = df.shape\n",
        "    total = df_size[0]\n",
        "    total_pos = df.Sentiment.sum()\n",
        "    total_neg = total - total_pos \n",
        "    \n",
        "    # set words in text to dataframe\n",
        "    for index, row in df.iterrows():\n",
        "      for i in row['SentimentText'].split():\n",
        "        if i in self._words['word'].tolist():\n",
        "          self._words.loc[self._words['word'] == i, \"pos\"] += row['Sentiment']\n",
        "          self._words.loc[self._words['word'] == i, \"neg\"] += 1 if not row['Sentiment'] else 0\n",
        "        else:\n",
        "          self._words = self._words.append({'word':i, 'pos': row['Sentiment'], 'neg': 1 if not row['Sentiment'] else 0 }, ignore_index=True)\n",
        "          \n",
        "\n",
        "  def accuracy(self, df):\n",
        "    df_size = df.shape\n",
        "    total = df_size[0]\n",
        "    total_pos = df.Sentiment.sum()\n",
        "    total_neg = total - total_pos \n",
        "    alpha = 1\n",
        "    shape_words = self._words.shape\n",
        "    total_words = shape_words[0]\n",
        "    testResult = []\n",
        "    \n",
        "    for index, row in df.iterrows():\n",
        "      likelifoood_pos = []\n",
        "      likelifoood_neg = []\n",
        "      for i in row['SentimentText'].split():\n",
        "        if i in self._words['word'].tolist():\n",
        "          likelifoood_pos.append((self._words.loc[self._words['word'] == i]['pos'].values[0] + alpha)/(total_pos + total_words))\n",
        "          likelifoood_neg.append((self._words.loc[self._words['word'] == i]['neg'].values[0] + alpha)/(total_neg + total_words))\n",
        "\n",
        "      \n",
        "      testResult.append(1 if np.prod(likelifoood_pos) > np.prod(likelifoood_neg) else 0)\n",
        "    \n",
        "    df['testResult'] = testResult\n",
        "    successful = df.loc[df['Sentiment'] == df['testResult']].shape\n",
        "    \n",
        "    #print accuracy of prediction\n",
        "    print(\"accuracy of prediction: {:04.2f}\".format(successful[0]/total))\n",
        "    \n",
        "  def top_ten_words(self, negpos):\n",
        "    print(\"top 10 {} words\".format(\"Positive\" if negpos == 1 else \"Negative\"))\n",
        "    \n",
        "    col = [\"pos\", \"neg\"] if negpos == 1 else [\"neg\", \"pos\"]\n",
        "    top_ten = self._words.loc[self._words[col[0]] > self._words[col[1]]].sort_values(by = [col[0],col[1]], ascending=[False, True])[:10]\n",
        "    top_ten = top_ten.reset_index(drop=True)\n",
        "    for i in range(10):\n",
        "      print(\"{}. {}\\t\\tcount:{}\".format(i+1, top_ten.loc[i, 'word'], top_ten.loc[i, col[0]]))\n"
      ],
      "execution_count": 0,
      "outputs": []
    },
    {
      "metadata": {
        "id": "KhTsp-xuBgDF",
        "colab_type": "text"
      },
      "cell_type": "markdown",
      "source": [
        "## train classifier with train dataset"
      ]
    },
    {
      "metadata": {
        "id": "c44-pMpxUtzP",
        "colab_type": "code",
        "colab": {}
      },
      "cell_type": "code",
      "source": [
        "nvClasifier = myClassifier()\n",
        "nvClasifier.train(train)\n"
      ],
      "execution_count": 0,
      "outputs": []
    },
    {
      "metadata": {
        "id": "fISYVonfBwh5",
        "colab_type": "text"
      },
      "cell_type": "markdown",
      "source": [
        "## check accuracy of classifier with test dataset"
      ]
    },
    {
      "metadata": {
        "id": "1cn-94kMB1ZJ",
        "colab_type": "code",
        "colab": {
          "base_uri": "https://localhost:8080/",
          "height": 34
        },
        "outputId": "51f1e2e7-32df-495f-e408-ea257cd583dc"
      },
      "cell_type": "code",
      "source": [
        "nvClasifier.accuracy(test)"
      ],
      "execution_count": 17,
      "outputs": [
        {
          "output_type": "stream",
          "text": [
            "accuracy of prediction: 0.40\n"
          ],
          "name": "stdout"
        }
      ]
    },
    {
      "metadata": {
        "id": "npJ_FlpgUtiV",
        "colab_type": "text"
      },
      "cell_type": "markdown",
      "source": [
        "## show top 10 positive words"
      ]
    },
    {
      "metadata": {
        "id": "NqVGzxwIB_fw",
        "colab_type": "code",
        "colab": {
          "base_uri": "https://localhost:8080/",
          "height": 204
        },
        "outputId": "affe77d8-4f64-4974-ee73-e02a4f9ae6b4"
      },
      "cell_type": "code",
      "source": [
        "nvClasifier.top_ten_words(1)"
      ],
      "execution_count": 18,
      "outputs": [
        {
          "output_type": "stream",
          "text": [
            "top 10 Positive words\n",
            "1. go\t\tcount:4\n",
            "2. get\t\tcount:3\n",
            "3. see\t\tcount:3\n",
            "4. got\t\tcount:3\n",
            "5. already\t\tcount:2\n",
            "6. boom\t\tcount:2\n",
            "7. seen\t\tcount:2\n",
            "8. tonight\t\tcount:2\n",
            "9. one\t\tcount:2\n",
            "10. gonna\t\tcount:2\n"
          ],
          "name": "stdout"
        }
      ]
    },
    {
      "metadata": {
        "id": "S9DpJPXjCABU",
        "colab_type": "text"
      },
      "cell_type": "markdown",
      "source": [
        "## show top 10 negative words"
      ]
    },
    {
      "metadata": {
        "id": "MPE3oX3nCDGE",
        "colab_type": "code",
        "colab": {
          "base_uri": "https://localhost:8080/",
          "height": 204
        },
        "outputId": "5c8a3d95-62b3-449a-cbbc-5a743753199b"
      },
      "cell_type": "code",
      "source": [
        "nvClasifier.top_ten_words(0)"
      ],
      "execution_count": 19,
      "outputs": [
        {
          "output_type": "stream",
          "text": [
            "top 10 Negative words\n",
            "1. i'm\t\tcount:6\n",
            "2. think\t\tcount:5\n",
            "3. like\t\tcount:4\n",
            "4. much\t\tcount:4\n",
            "5. new\t\tcount:4\n",
            "6. work\t\tcount:4\n",
            "7. really\t\tcount:4\n",
            "8. im\t\tcount:4\n",
            "9. want\t\tcount:4\n",
            "10. love\t\tcount:3\n"
          ],
          "name": "stdout"
        }
      ]
    }
  ]
}